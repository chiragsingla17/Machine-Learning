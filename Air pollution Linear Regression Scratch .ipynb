{
 "cells": [
  {
   "cell_type": "code",
   "execution_count": 5,
   "metadata": {
    "collapsed": true
   },
   "outputs": [],
   "source": [
    "import numpy as np\n",
    "import pandas as pd\n",
    "import matplotlib.pyplot as plt\n"
   ]
  },
  {
   "cell_type": "code",
   "execution_count": 6,
   "metadata": {
    "collapsed": true
   },
   "outputs": [],
   "source": [
    "df=pd.read_csv('Train.csv')\n",
    "dft=pd.read_csv('Test.csv')\n",
    "vt=dft.values\n",
    "v=df.values"
   ]
  },
  {
   "cell_type": "code",
   "execution_count": 7,
   "metadata": {},
   "outputs": [
    {
     "name": "stdout",
     "output_type": "stream",
     "text": [
      "Number of feature of data set is 5\n"
     ]
    }
   ],
   "source": [
    "x=v[:,:-1]\n",
    "y=v[:,-1:]\n",
    "x_test=vt[:,:-1]\n",
    "y_test=vt[:,-1:]\n",
    "print(\"Number of feature of data set is\",x.shape[1])"
   ]
  },
  {
   "cell_type": "code",
   "execution_count": 8,
   "metadata": {
    "collapsed": true
   },
   "outputs": [],
   "source": [
    "X=(x-x.mean())/x.std()\n",
    "X_test=(x_test-x_test.mean())/x_test.std()\n",
    "Y =y\n",
    "Y_test=y_test\n",
    "X=np.insert(X,0,1,axis=1)\n",
    "X_test=np.insert(X_test,0,1,axis=1)\n"
   ]
  },
  {
   "cell_type": "code",
   "execution_count": 103,
   "metadata": {},
   "outputs": [
    {
     "ename": "SyntaxError",
     "evalue": "invalid syntax (<ipython-input-103-8b4a44857c58>, line 19)",
     "output_type": "error",
     "traceback": [
      "\u001b[1;36m  File \u001b[1;32m\"<ipython-input-103-8b4a44857c58>\"\u001b[1;36m, line \u001b[1;32m19\u001b[0m\n\u001b[1;33m    m=X.shape[0]\u001b[0m\n\u001b[1;37m    ^\u001b[0m\n\u001b[1;31mSyntaxError\u001b[0m\u001b[1;31m:\u001b[0m invalid syntax\n"
     ]
    }
   ],
   "source": [
    "def hypothesis(X, theta):\n",
    "    return  np.dot(X,theta.T)\n",
    "def cost(X,Y,theta):\n",
    "    m=X.shape[0]\n",
    "    hp=hypothesis(X,theta)\n",
    "    c=(hp-Y)**2\n",
    "    return np.sum(c)/(2*m)\n",
    "def gradient_desent(X,Y , learning_rate=0.01):\n",
    "    theta=np.zeros((1,X.shape[1]))\n",
    "    m=X.shape[0]\n",
    "    cost_list= np.zeros(1000)\n",
    "    for i in range(1000):\n",
    "        hp=hypothesis(X,theta)\n",
    "        theta = theta - (learning_rate/m) * np.sum(X * (hp - Y), axis=0)\n",
    "        cost_list[i] = cost(X, Y, theta)\n",
    "    return theta, cost_list\n",
    "def stochastic_gradient_descent(X,Y, learning_rate=0.001):\n",
    "    theta=np.zeros((1,X.shape[1])\n",
    "    m=X.shape[0]\n",
    "    cost_list= np.zeros(X.shape[0])\n",
    "    for i in range(X.shape[0]):\n",
    "        hp=hypothesis(X[i,:],theta)\n",
    "        theta = theta - (learning_rate/m) * np.sum(X[i,:] * (hp - Y[i,:]), axis=0)\n",
    "        cost_list[i] = cost(X, Y, theta)\n",
    "    \n",
    "    return theta, cost_list  \n",
    "\n",
    "    "
   ]
  },
  {
   "cell_type": "code",
   "execution_count": 104,
   "metadata": {
    "collapsed": true
   },
   "outputs": [],
   "source": [
    "final_theta , cost_list= gradient_desent(X,Y)\n",
    "final_cost=cost(X,Y,final_theta)"
   ]
  },
  {
   "cell_type": "code",
   "execution_count": 105,
   "metadata": {},
   "outputs": [
    {
     "name": "stdout",
     "output_type": "stream",
     "text": [
      "final hypothesis is 509.200570463\n"
     ]
    }
   ],
   "source": [
    "hp=hypothesis(X,final_theta)\n",
    "print(\"final hypothesis is\",np.sum(hp))"
   ]
  },
  {
   "cell_type": "code",
   "execution_count": 106,
   "metadata": {},
   "outputs": [
    {
     "name": "stdout",
     "output_type": "stream",
     "text": [
      "207.776673737\n"
     ]
    }
   ],
   "source": [
    "print(final_cost)"
   ]
  },
  {
   "cell_type": "code",
   "execution_count": 107,
   "metadata": {},
   "outputs": [
    {
     "data": {
      "image/png": "[encoded data removed]",
      "text/plain": [
       "<matplotlib.figure.Figure at 0x2abff0e4e48>"
      ]
     },
     "metadata": {},
     "output_type": "display_data"
    }
   ],
   "source": [
    "plt.plot(cost_list)\n",
    "plt.show()"
   ]
  },
  {
   "cell_type": "code",
   "execution_count": 108,
   "metadata": {},
   "outputs": [
    {
     "data": {
      "text/plain": [
       "array([[  1.49074643,  29.8408354 ,  93.16196034,   8.32269365,\n",
       "         45.00820867,   2.53129205]])"
      ]
     },
     "execution_count": 108,
     "metadata": {},
     "output_type": "execute_result"
    }
   ],
   "source": [
    "final_theta"
   ]
  },
  {
   "cell_type": "code",
   "execution_count": 109,
   "metadata": {
    "collapsed": true
   },
   "outputs": [],
   "source": [
    "bfinal_theta , bcost_list= stochastic_gradient_descent(X,Y)\n"
   ]
  },
  {
   "cell_type": "code",
   "execution_count": 110,
   "metadata": {},
   "outputs": [
    {
     "data": {
      "image/png": "[encoded data removed]",
      "text/plain": [
       "<matplotlib.figure.Figure at 0x2abff231898>"
      ]
     },
     "metadata": {},
     "output_type": "display_data"
    }
   ],
   "source": [
    "plt.plot(bcost_list)\n",
    "plt.show()"
   ]
  },
  {
   "cell_type": "code",
   "execution_count": 78,
   "metadata": {},
   "outputs": [
    {
     "name": "stdout",
     "output_type": "stream",
     "text": [
      "coefficients of theta- [ 29.8408354   93.16196034   8.32269365  45.00820867   2.53129205]\n",
      "intercept of theta- 1.49074642538\n",
      "hypothesis function [[ -57.87084727]\n",
      " [ -89.45473064]\n",
      " [  53.95018198]\n",
      " ..., \n",
      " [-115.65900246]\n",
      " [ -64.27841029]\n",
      " [-116.10771024]]\n"
     ]
    }
   ],
   "source": [
    "print(\"coefficients of theta-\",final_theta[0,1:])\n",
    "print(\"intercept of theta-\",final_theta[0,0])\n",
    "print(\"hypothesis function\",hypothesis(X,final_theta))"
   ]
  },
  {
   "cell_type": "code",
   "execution_count": 72,
   "metadata": {
    "collapsed": true
   },
   "outputs": [],
   "source": [
    "def Coefficient_of_Determination(Y,X,final_theta):\n",
    "    Y_predict=hypothesis(X, final_theta)\n",
    "    m=X.shape[0]\n",
    "    re=np.sum((Y-Y_predict)**2)\n",
    "    sre=np.sum((Y-Y.mean())**2)\n",
    "    r= 1- (re/sre)\n",
    "    return r"
   ]
  },
  {
   "cell_type": "code",
   "execution_count": 73,
   "metadata": {},
   "outputs": [
    {
     "name": "stdout",
     "output_type": "stream",
     "text": [
      "score using Traning data 0.966093964393\n",
      "score using Test data 0.968528055101\n"
     ]
    }
   ],
   "source": [
    "r= Coefficient_of_Determination(Y,X,final_theta)\n",
    "print(\"score using Traning data\",r)\n",
    "rt=Coefficient_of_Determination(Y_test,X_test,final_theta)\n",
    "print(\"score using Test data\",rt)"
   ]
  },
  {
   "cell_type": "code",
   "execution_count": 92,
   "metadata": {},
   "outputs": [
    {
     "name": "stdout",
     "output_type": "stream",
     "text": [
      "score of test data is better\n",
      "[[ -8.61204418e+01]\n",
      " [ -1.63939206e+01]\n",
      " [ -6.73801809e+01]\n",
      " [ -2.41157407e+02]\n",
      " [ -2.85455633e+01]\n",
      " [ -1.77447216e+02]\n",
      " [ -1.58110724e+02]\n",
      " [  1.89121515e+01]\n",
      " [ -1.03163108e+01]\n",
      " [ -6.25798862e+01]\n",
      " [  1.06234502e+02]\n",
      " [  2.04391380e+01]\n",
      " [  1.60808023e+02]\n",
      " [ -9.51495587e+01]\n",
      " [  4.70567821e+01]\n",
      " [  3.26618048e+01]\n",
      " [  1.31868001e+02]\n",
      " [  1.09515652e+02]\n",
      " [  4.48100255e+01]\n",
      " [  2.84382460e+01]\n",
      " [  6.57859600e+01]\n",
      " [  3.47991490e+01]\n",
      " [  6.44101023e+01]\n",
      " [ -8.39576588e+01]\n",
      " [  1.16581742e+02]\n",
      " [  2.24322221e+01]\n",
      " [ -3.42734742e+01]\n",
      " [  1.32627402e+02]\n",
      " [ -4.63831110e+01]\n",
      " [  1.35682036e+02]\n",
      " [  4.36488179e+01]\n",
      " [ -2.57562679e+01]\n",
      " [ -1.65610316e+02]\n",
      " [ -1.22393713e+02]\n",
      " [ -9.07488768e+01]\n",
      " [ -5.05792262e+01]\n",
      " [ -5.41094621e+01]\n",
      " [  7.23442844e+01]\n",
      " [ -1.18889050e+02]\n",
      " [ -1.68184211e+00]\n",
      " [  1.69436558e+02]\n",
      " [ -8.46431249e+01]\n",
      " [ -1.24871711e+02]\n",
      " [  3.75477114e+01]\n",
      " [ -6.39047026e+01]\n",
      " [  7.88172392e+01]\n",
      " [  1.04529570e+02]\n",
      " [  1.30215197e+02]\n",
      " [ -1.28141060e+01]\n",
      " [ -9.98226630e+01]\n",
      " [ -3.67623488e+01]\n",
      " [  1.86000080e+02]\n",
      " [ -1.70667619e+01]\n",
      " [  1.45072299e+02]\n",
      " [ -1.56006257e+02]\n",
      " [ -1.73612657e+02]\n",
      " [  3.95521304e+01]\n",
      " [ -1.57866911e+02]\n",
      " [ -2.19985348e+01]\n",
      " [  3.86641165e+01]\n",
      " [ -9.04287026e+01]\n",
      " [ -3.00301962e+01]\n",
      " [ -6.07157874e+01]\n",
      " [  2.90399046e+01]\n",
      " [  1.19632322e+02]\n",
      " [ -8.68065928e+01]\n",
      " [  1.60558810e+02]\n",
      " [ -4.67521249e+01]\n",
      " [ -1.73613688e+02]\n",
      " [  2.18477434e+02]\n",
      " [ -3.51603639e+01]\n",
      " [  1.10209314e+02]\n",
      " [  7.91905326e+01]\n",
      " [ -1.09311489e+02]\n",
      " [  1.24171058e+02]\n",
      " [ -6.47684323e+01]\n",
      " [ -1.11781026e+02]\n",
      " [  5.61089725e+01]\n",
      " [  2.05844235e+02]\n",
      " [ -7.70344851e+01]\n",
      " [ -3.55457720e+01]\n",
      " [ -4.08537772e+01]\n",
      " [  1.98678843e+01]\n",
      " [  5.07541448e+01]\n",
      " [  1.27150144e+02]\n",
      " [ -3.20650462e+00]\n",
      " [  1.14524147e+02]\n",
      " [ -2.93440067e+01]\n",
      " [ -3.96737403e+01]\n",
      " [ -9.01309244e+01]\n",
      " [  1.10951629e+02]\n",
      " [  9.04900118e+01]\n",
      " [  5.80404457e+01]\n",
      " [ -9.88628414e+01]\n",
      " [  1.26586654e+02]\n",
      " [  1.05553859e+01]\n",
      " [ -9.75433232e+01]\n",
      " [  5.80764210e+01]\n",
      " [ -1.76075746e+02]\n",
      " [ -1.82627844e+01]\n",
      " [  2.21404980e+01]\n",
      " [  1.14315540e+01]\n",
      " [  2.68705604e+01]\n",
      " [  7.09058651e+00]\n",
      " [ -8.88189202e+01]\n",
      " [ -5.68642987e+00]\n",
      " [ -2.20802504e+02]\n",
      " [  3.10654103e+01]\n",
      " [ -1.17644503e+02]\n",
      " [  7.65590775e+01]\n",
      " [  4.28790664e+01]\n",
      " [  6.33437992e+01]\n",
      " [ -4.32931980e+01]\n",
      " [ -2.26058978e+01]\n",
      " [  3.00640946e+02]\n",
      " [ -4.95920080e+01]\n",
      " [  1.21578428e+02]\n",
      " [  3.77863035e+00]\n",
      " [  8.59917286e+01]\n",
      " [  1.84471620e+02]\n",
      " [ -4.58021986e+01]\n",
      " [ -1.53309935e+02]\n",
      " [ -5.35302364e+00]\n",
      " [  4.50883069e+01]\n",
      " [  1.65851512e+01]\n",
      " [ -1.30511147e+02]\n",
      " [ -4.20354788e+01]\n",
      " [  1.32277233e+02]\n",
      " [  1.13147693e+02]\n",
      " [  4.40867982e+01]\n",
      " [  1.68183486e+02]\n",
      " [ -2.35454222e+01]\n",
      " [  9.34285533e+01]\n",
      " [  5.98076495e+00]\n",
      " [ -1.12372379e+00]\n",
      " [ -2.59441341e+02]\n",
      " [ -1.77252790e+02]\n",
      " [  7.47230405e+01]\n",
      " [ -2.61952633e+01]\n",
      " [  9.57648939e+01]\n",
      " [  4.72180336e+01]\n",
      " [  5.26911646e+01]\n",
      " [  3.69620988e+01]\n",
      " [ -9.05389935e+01]\n",
      " [ -1.91895509e+02]\n",
      " [ -3.98681348e+00]\n",
      " [ -2.30962886e+01]\n",
      " [  2.61095780e+00]\n",
      " [ -1.00874797e+02]\n",
      " [ -7.16360072e+01]\n",
      " [  1.10122687e+01]\n",
      " [  4.01091252e+01]\n",
      " [  1.34956602e+02]\n",
      " [  2.97660284e+02]\n",
      " [  8.73244083e+01]\n",
      " [  8.29726113e-01]\n",
      " [ -2.04436419e+02]\n",
      " [  1.18451331e+02]\n",
      " [ -3.98755284e+01]\n",
      " [ -4.85435279e+00]\n",
      " [ -3.55978498e+00]\n",
      " [  1.28071759e+02]\n",
      " [ -6.69238926e+01]\n",
      " [  1.71568299e+02]\n",
      " [ -6.04280466e+01]\n",
      " [ -9.19329645e+01]\n",
      " [  2.70416040e+02]\n",
      " [ -7.12134581e+01]\n",
      " [ -9.63366118e+01]\n",
      " [  2.05260081e+02]\n",
      " [ -2.73030210e+02]\n",
      " [ -1.00034344e+02]\n",
      " [  8.70977954e+01]\n",
      " [  2.22288555e+02]\n",
      " [  1.40628251e+01]\n",
      " [ -1.50607765e+02]\n",
      " [ -1.39252544e+01]\n",
      " [  1.82012607e+02]\n",
      " [ -1.96705336e+02]\n",
      " [ -4.88273191e+01]\n",
      " [  2.09244141e+01]\n",
      " [ -3.91661089e+01]\n",
      " [ -1.88289166e+02]\n",
      " [ -1.44448223e+02]\n",
      " [ -4.28704077e+01]\n",
      " [ -1.81961205e+02]\n",
      " [  2.08473034e+02]\n",
      " [  1.40627651e+02]\n",
      " [ -7.09030362e+01]\n",
      " [  1.69791783e+02]\n",
      " [  1.93221724e+01]\n",
      " [  3.95843049e+01]\n",
      " [  1.26311453e+01]\n",
      " [  5.47857255e+00]\n",
      " [ -5.27711813e+01]\n",
      " [  1.33963831e+02]\n",
      " [  6.98293895e+01]\n",
      " [  3.46014357e+02]\n",
      " [  2.15638876e+02]\n",
      " [  1.07892855e+02]\n",
      " [  2.32822798e+01]\n",
      " [ -2.52561304e+00]\n",
      " [  9.09567343e+01]\n",
      " [ -7.97412044e+01]\n",
      " [  9.66802270e+01]\n",
      " [ -1.76689184e+02]\n",
      " [ -5.22205593e+01]\n",
      " [ -8.56007567e+01]\n",
      " [  5.58037496e+01]\n",
      " [  1.72554010e+02]\n",
      " [ -3.21248249e+01]\n",
      " [ -2.17914792e+02]\n",
      " [ -1.64917933e+01]\n",
      " [  7.20167276e+01]\n",
      " [  2.24569871e+01]\n",
      " [ -1.56525640e+01]\n",
      " [ -1.07436675e+02]\n",
      " [  1.51322801e+02]\n",
      " [ -1.40048187e+02]\n",
      " [  3.53515719e+01]\n",
      " [  2.33409468e+01]\n",
      " [ -3.17212243e+01]\n",
      " [  1.85894370e+02]\n",
      " [  1.71727539e+02]\n",
      " [ -2.79225590e+01]\n",
      " [  1.56504046e+02]\n",
      " [ -4.08447397e+01]\n",
      " [ -3.08722671e+02]\n",
      " [  1.24106907e+02]\n",
      " [  1.12965070e+02]\n",
      " [  4.51492622e+01]\n",
      " [ -2.16157532e+01]\n",
      " [ -1.75179490e+02]\n",
      " [  2.61427728e+01]\n",
      " [ -2.04526494e+02]\n",
      " [ -6.39066513e+01]\n",
      " [ -1.18577693e+01]\n",
      " [  8.19933037e+01]\n",
      " [  2.66855876e+01]\n",
      " [ -5.12958473e+01]\n",
      " [ -2.66723231e+01]\n",
      " [  5.09042002e+01]\n",
      " [  5.53418977e+01]\n",
      " [  3.11402070e+01]\n",
      " [  1.29434932e+02]\n",
      " [  2.74096131e+01]\n",
      " [  8.01473205e+01]\n",
      " [ -7.57027425e+01]\n",
      " [ -8.31802221e+01]\n",
      " [ -1.76912763e+02]\n",
      " [ -1.65878961e+02]\n",
      " [ -2.08255840e+02]\n",
      " [ -5.67209693e+00]\n",
      " [  1.69641657e+02]\n",
      " [ -2.00943534e+01]\n",
      " [ -1.74560824e+02]\n",
      " [  3.02068542e+01]\n",
      " [  1.40036795e+02]\n",
      " [ -1.59153206e+01]\n",
      " [  6.37978689e+01]\n",
      " [  6.49869177e-02]\n",
      " [ -1.10285087e+01]\n",
      " [ -2.58215722e+02]\n",
      " [ -4.22876619e+01]\n",
      " [  9.02259899e+01]\n",
      " [ -9.18011199e+01]\n",
      " [  4.44486250e+01]\n",
      " [  1.73053748e+02]\n",
      " [ -1.35440826e+02]\n",
      " [  6.01753797e+01]\n",
      " [ -9.79277242e+01]\n",
      " [  1.03991642e+02]\n",
      " [  9.17057885e+01]\n",
      " [ -1.07285297e+02]\n",
      " [  1.49969236e+02]\n",
      " [ -1.07340427e+02]\n",
      " [  1.53713572e+02]\n",
      " [ -7.60449189e+01]\n",
      " [ -2.56623307e+02]\n",
      " [ -4.90453927e+01]\n",
      " [ -9.56847145e+01]\n",
      " [ -8.95023952e+01]\n",
      " [  9.23487638e+01]\n",
      " [  1.54352975e+02]\n",
      " [  9.10021271e+00]\n",
      " [  7.55674220e+01]\n",
      " [ -2.39214229e+01]\n",
      " [  6.40064375e+01]\n",
      " [  1.11788930e+01]\n",
      " [  8.66572735e+01]\n",
      " [  9.73226237e+01]\n",
      " [  2.15762278e+02]\n",
      " [ -4.98338347e+01]\n",
      " [ -7.10689756e+01]\n",
      " [  2.37463336e+02]\n",
      " [  1.84379819e+02]\n",
      " [  2.75650354e+01]\n",
      " [  1.32648235e+02]\n",
      " [ -1.73225284e+02]\n",
      " [ -1.40760115e+02]\n",
      " [ -1.32188215e+02]\n",
      " [ -9.18755722e+00]\n",
      " [ -3.04552750e+01]\n",
      " [  1.61356826e+02]\n",
      " [ -5.26961609e+01]\n",
      " [  1.60217709e+01]\n",
      " [ -2.49884750e+01]\n",
      " [  9.85600071e+01]\n",
      " [  8.30444800e+00]\n",
      " [  1.49157289e+02]\n",
      " [ -5.85244234e+01]\n",
      " [  2.97259170e+01]\n",
      " [ -7.65583180e+01]\n",
      " [ -1.68077993e+02]\n",
      " [  1.63585097e+02]\n",
      " [  9.92535647e+00]\n",
      " [ -3.51162916e+00]\n",
      " [ -8.84912924e+01]\n",
      " [ -5.31460904e+01]\n",
      " [ -6.83605283e+01]\n",
      " [  6.40835865e+01]\n",
      " [  1.28759709e+02]\n",
      " [ -2.45986858e+01]\n",
      " [ -1.44544197e+02]\n",
      " [  1.57271632e+01]\n",
      " [  9.21448005e+01]\n",
      " [  7.40921596e+01]\n",
      " [  1.72947207e+02]\n",
      " [  1.63727440e+01]\n",
      " [ -8.58704326e+01]\n",
      " [  1.53563157e+02]\n",
      " [ -1.10238032e+02]\n",
      " [ -1.71982642e+02]\n",
      " [  1.07177261e+02]\n",
      " [ -7.75204516e+01]\n",
      " [ -3.25655118e+01]\n",
      " [  1.15967590e+02]\n",
      " [ -2.08941687e+02]\n",
      " [ -5.89940228e+01]\n",
      " [  6.05019517e+01]\n",
      " [ -1.66080872e+02]\n",
      " [ -1.09365532e+02]\n",
      " [ -1.55258199e+02]\n",
      " [  4.70980697e+01]\n",
      " [  7.87370129e+01]\n",
      " [  3.43126078e+01]\n",
      " [  1.01769091e+01]\n",
      " [ -2.11306936e+01]\n",
      " [ -4.49765941e+01]\n",
      " [ -3.10889461e+02]\n",
      " [  3.83259499e+01]\n",
      " [  2.66408468e+02]\n",
      " [  1.23884518e+02]\n",
      " [ -3.83525007e+01]\n",
      " [  6.92247229e+01]\n",
      " [  2.10914577e+02]\n",
      " [ -1.66648911e+01]\n",
      " [ -1.59612781e+02]\n",
      " [  1.33368104e+02]\n",
      " [ -2.55963183e+02]\n",
      " [ -1.62675973e+02]\n",
      " [ -8.62649664e+01]\n",
      " [ -2.95728697e+01]\n",
      " [ -4.57699274e+01]\n",
      " [ -6.07789897e+01]\n",
      " [ -5.23958409e+01]\n",
      " [  6.39642875e+01]\n",
      " [  4.52749112e+01]\n",
      " [  4.57054994e+01]\n",
      " [ -1.23686059e+02]\n",
      " [  4.19295293e+01]\n",
      " [  1.69699045e+01]\n",
      " [  8.81742358e+00]\n",
      " [  2.39994365e+02]\n",
      " [  1.56899909e+02]\n",
      " [ -7.47530650e+01]\n",
      " [  6.09558901e+01]\n",
      " [ -2.87813021e+01]\n",
      " [ -1.19090154e+02]\n",
      " [ -3.95932284e+01]\n",
      " [ -2.30973215e+02]\n",
      " [ -1.08190494e+02]\n",
      " [ -2.92077224e+01]\n",
      " [  2.36202439e+01]\n",
      " [ -2.07332660e+00]\n",
      " [ -3.38834941e+01]\n",
      " [ -8.44850627e+01]\n",
      " [ -6.12897593e+00]\n",
      " [ -1.52159794e+00]\n",
      " [ -2.30039562e+01]\n",
      " [  5.54642355e+01]\n",
      " [  6.35818106e+01]\n",
      " [ -2.18357911e+02]\n",
      " [ -8.53413504e+01]\n",
      " [ -1.14368591e+01]\n",
      " [ -1.28889988e+02]\n",
      " [ -4.66711503e+01]\n",
      " [ -6.43262024e+01]\n",
      " [  1.11852242e+02]\n",
      " [ -1.23364383e+02]]\n"
     ]
    }
   ],
   "source": [
    "print(\"score of test data is better\")\n",
    "Y_predict=hypothesis(X_test, final_theta)\n",
    "print(Y_predict) "
   ]
  },
  {
   "cell_type": "code",
   "execution_count": null,
   "metadata": {},
   "outputs": [],
   "source": []
  },
  {
   "cell_type": "code",
   "execution_count": null,
   "metadata": {
    "collapsed": true
   },
   "outputs": [],
   "source": []
  },
  {
   "cell_type": "code",
   "execution_count": null,
   "metadata": {
    "collapsed": true
   },
   "outputs": [],
   "source": []
  }
 ],
 "metadata": {
  "kernelspec": {
   "display_name": "Python 3",
   "language": "python",
   "name": "python3"
  },
  "language_info": {
   "codemirror_mode": {
    "name": "ipython",
    "version": 3
   },
   "file_extension": ".py",
   "mimetype": "text/x-python",
   "name": "python",
   "nbconvert_exporter": "python",
   "pygments_lexer": "ipython3",
   "version": "3.6.3"
  }
 },
 "nbformat": 4,
 "nbformat_minor": 2
}
